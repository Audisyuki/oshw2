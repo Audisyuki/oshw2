{
 "cells": [
  {
   "cell_type": "code",
   "execution_count": 14,
   "metadata": {},
   "outputs": [],
   "source": [
    "from PIL import Image\n",
    "import numpy as np\n",
    "%matplotlib inline\n",
    "import matplotlib\n",
    "import matplotlib.pyplot as plt\n",
    "from sklearn import datasets, svm, linear_model\n",
    "matplotlib.style.use('bmh')\n",
    "matplotlib.rcParams['figure.figsize']=(10,7)"
   ]
  },
  {
   "cell_type": "code",
   "execution_count": 15,
   "metadata": {},
   "outputs": [
    {
     "data": {
      "image/png": "[encoded data removed]",
      "text/plain": [
       "<PIL.Image.Image image mode=RGB size=300x300 at 0x12864801F10>"
      ]
     },
     "execution_count": 15,
     "metadata": {},
     "output_type": "execute_result"
    }
   ],
   "source": [
    "pixels = np.array(Image.open('yoshi.png'))\n",
    "Image.fromarray(pixels).resize((300,300), Image.NEAREST)"
   ]
  },
  {
   "cell_type": "code",
   "execution_count": 16,
   "metadata": {},
   "outputs": [],
   "source": [
    "palette =  list(set(tuple(x) for x in pixels.reshape(-1, 3)))"
   ]
  },
  {
   "cell_type": "code",
   "execution_count": 17,
   "metadata": {},
   "outputs": [],
   "source": [
    "reverse_palette = {c:i for i, c in enumerate(palette)}"
   ]
  },
  {
   "cell_type": "code",
   "execution_count": 18,
   "metadata": {},
   "outputs": [],
   "source": [
    "h, w = pixels.shape[:2]\n",
    "X = np.mgrid[0:h, 0:w].reshape(2, -1).T\n",
    "y = np.array([reverse_palette[tuple(x)] for x in pixels.reshape(-1,3)])"
   ]
  },
  {
   "cell_type": "code",
   "execution_count": 19,
   "metadata": {},
   "outputs": [],
   "source": [
    "X = X.astype('float64')"
   ]
  },
  {
   "cell_type": "code",
   "execution_count": 20,
   "metadata": {},
   "outputs": [],
   "source": [
    "X=np.concatenate([X, X+[.1,.1], X+[.1,-.1], X+[-.1,.1], X+[-.1,-.1]])\n",
    "y = np.concatenate([y,y,y,y,y])"
   ]
  },
  {
   "cell_type": "code",
   "execution_count": 21,
   "metadata": {},
   "outputs": [],
   "source": [
    "from matplotlib.colors import LinearSegmentedColormap\n",
    "cm= LinearSegmentedColormap.from_list(\n",
    "        \"cmm\", np.array(palette)/255 )\n",
    "matplotlib.rcParams['figure.figsize']=(10,10*h/w)"
   ]
  },
  {
   "cell_type": "code",
   "execution_count": 32,
   "metadata": {},
   "outputs": [],
   "source": [
    "clf=svm.NuSVC(nu=0.01, kernel='rbf',\n",
    "            decision_function_shape='ovo', gamma=1/20)\n",
    "X_mean = X.mean(axis=0,keepdims=True)\n",
    "X_std = X.std()/10\n",
    "clf.fit((X-X_mean)/X_std, y)\n",
    "\n",
    "# 邊界\n",
    "x_min, y_min = X.min(axis=0)-1\n",
    "x_max, y_max = X.max(axis=0)+1\n",
    "\n",
    "# 座標點\n",
    "grid  = np.mgrid[x_min:x_max:1000j, y_min:y_max:1000j]\n",
    "# grid.shape = (2, 200, 200)\n",
    "\n",
    "# 在座標點 算出 svm 的判斷函數\n",
    "Z = clf.predict( (grid.reshape(2, -1).T-X_mean)/X_std)"
   ]
  },
  {
   "cell_type": "code",
   "execution_count": 33,
   "metadata": {},
   "outputs": [
    {
     "name": "stderr",
     "output_type": "stream",
     "text": [
      "<ipython-input-33-bf3044d350e7>:2: MatplotlibDeprecationWarning: shading='flat' when X and Y have the same dimensions as C is deprecated since 3.3.  Either specify the corners of the quadrilaterals with X and Y, or pass shading='auto', 'nearest' or 'gouraud', or set rcParams['pcolor.shading'].  This will become an error two minor releases later.\n",
      "  plt.pcolormesh(grid[1], h-grid[0], Z, cmap=cm, alpha=1);\n"
     ]
    },
    {
     "data": {
      "image/png": "[encoded data removed]",
      "text/plain": [
       "<Figure size 720x771.429 with 1 Axes>"
      ]
     },
     "metadata": {
      "needs_background": "light"
     },
     "output_type": "display_data"
    }
   ],
   "source": [
    "Z  = Z.reshape(grid.shape[1:])\n",
    "plt.pcolormesh(grid[1], h-grid[0], Z, cmap=cm, alpha=1);"
   ]
  },
  {
   "cell_type": "code",
   "execution_count": 24,
   "metadata": {},
   "outputs": [],
   "source": []
  }
 ],
 "metadata": {
  "kernelspec": {
   "display_name": "Python 3",
   "language": "python",
   "name": "python3"
  },
  "language_info": {
   "codemirror_mode": {
    "name": "ipython",
    "version": 3
   },
   "file_extension": ".py",
   "mimetype": "text/x-python",
   "name": "python",
   "nbconvert_exporter": "python",
   "pygments_lexer": "ipython3",
   "version": "3.8.5"
  }
 },
 "nbformat": 4,
 "nbformat_minor": 4
}
